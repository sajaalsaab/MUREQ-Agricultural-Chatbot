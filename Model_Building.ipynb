{
  "cells": [
    {
      "cell_type": "markdown",
      "metadata": {
        "id": "A1doVMd9VhtQ"
      },
      "source": [
        "# install prerequisite"
      ]
    },
    {
      "cell_type": "code",
      "execution_count": null,
      "metadata": {
        "colab": {
          "base_uri": "https://localhost:8080/"
        },
        "id": "GA7AjkqBkyZb",
        "outputId": "58a918d5-8f82-42b4-ed36-f212e20dd144"
      },
      "outputs": [
        {
          "output_type": "stream",
          "name": "stdout",
          "text": [
            "There are 1 GPU(s) available.\n",
            "We will use the GPU: Tesla T4\n",
            "Sat May  4 15:26:42 2024       \n",
            "+---------------------------------------------------------------------------------------+\n",
            "| NVIDIA-SMI 535.104.05             Driver Version: 535.104.05   CUDA Version: 12.2     |\n",
            "|-----------------------------------------+----------------------+----------------------+\n",
            "| GPU  Name                 Persistence-M | Bus-Id        Disp.A | Volatile Uncorr. ECC |\n",
            "| Fan  Temp   Perf          Pwr:Usage/Cap |         Memory-Usage | GPU-Util  Compute M. |\n",
            "|                                         |                      |               MIG M. |\n",
            "|=========================================+======================+======================|\n",
            "|   0  Tesla T4                       Off | 00000000:00:04.0 Off |                    0 |\n",
            "| N/A   69C    P8              11W /  70W |      3MiB / 15360MiB |      0%      Default |\n",
            "|                                         |                      |                  N/A |\n",
            "+-----------------------------------------+----------------------+----------------------+\n",
            "                                                                                         \n",
            "+---------------------------------------------------------------------------------------+\n",
            "| Processes:                                                                            |\n",
            "|  GPU   GI   CI        PID   Type   Process name                            GPU Memory |\n",
            "|        ID   ID                                                             Usage      |\n",
            "|=======================================================================================|\n",
            "|  No running processes found                                                           |\n",
            "+---------------------------------------------------------------------------------------+\n"
          ]
        }
      ],
      "source": [
        "import torch\n",
        "\n",
        "# If there's a GPU available...\n",
        "if torch.cuda.is_available():\n",
        "\n",
        "    # Tell PyTorch to use the GPU.\n",
        "    device = torch.device(\"cuda\")\n",
        "\n",
        "    print('There are %d GPU(s) available.' % torch.cuda.device_count())\n",
        "\n",
        "    print('We will use the GPU:', torch.cuda.get_device_name(0))\n",
        "    !nvidia-smi\n",
        "\n",
        "# If not...\n",
        "else:\n",
        "    print('No GPU available, using the CPU instead.')\n",
        "    device = torch.device(\"cpu\")"
      ]
    },
    {
      "cell_type": "code",
      "execution_count": null,
      "metadata": {
        "id": "v7zsC6CBXlL4"
      },
      "outputs": [],
      "source": [
        "import json\n",
        "import torch\n",
        "from torch.utils.data import Dataset, DataLoader\n",
        "from transformers import BertTokenizerFast\n",
        "from transformers import AutoTokenizer, AutoModelForQuestionAnswering, AdamW\n"
      ]
    },
    {
      "cell_type": "code",
      "execution_count": null,
      "metadata": {
        "colab": {
          "base_uri": "https://localhost:8080/"
        },
        "id": "675fapwYnwWe",
        "outputId": "77cafcf6-f2bc-4ee3-e15e-181ee188e4aa"
      },
      "outputs": [
        {
          "output_type": "stream",
          "name": "stdout",
          "text": [
            "Training set informaiton:\n",
            "Length of each training array is 847 elements\n",
            "The first 5 Questions of Training array:\n",
            "['ماذا يسبب تعرض النباتات لدرجات حرارة منحفضة؟', 'ماهي شجرة اللبخ؟', 'ماهي طريقة زراعة شجرة اللبخ؟', 'ماهي الأماكن المناسبة لزراعة شجرة اللبخ؟', 'ماهو المناخ المثالي لزراعة شجرة اللبخ؟']\n",
            "**********\n",
            "Validation set informaiton:\n",
            "Length of each Validation array is 107 elements\n",
            "The first 5 Questions of Validation array:\n",
            "['ماهي نبتة الفيروكاكتوس ؟', 'ماهي طريقة زراعة نبتة الفيروكاكتوس ؟ ', 'ماهي طريقة العناية بنبتة الفيروكاكتوس ؟', 'ماهو المناخ المناسب لنبتة الفيروكاكتوس ؟', 'ماهي الأمراض التي تصيب نبتة الفيروكاكتوس؟']\n",
            "**********\n",
            "Testing set informaiton:\n",
            "Length of each testing array is 108 elemants\n",
            "The first 5 Questions of Testing array:\n",
            "['ماهو نبات دراسينا؟', 'ماهي طريقة زراعة نبات دراسينا؟ ', 'ماهي طريقة العناية بنبات دراسينا؟', 'ماهو المناخ المناسب لنبات دراسينا؟', 'ماهي الأمراض التي تصيب نبات دراسينا؟']\n"
          ]
        }
      ],
      "source": [
        "def read_QA(path):\n",
        "    with open(path, 'rb') as f:\n",
        "        QA_dict = json.load(f)\n",
        "\n",
        "    contexts = []\n",
        "    questions = []\n",
        "    answers = []\n",
        "    for item in QA_dict['data']:\n",
        "      for paragraph in item['paragraphs']:\n",
        "        context = paragraph['context']\n",
        "        for qa in paragraph['qas']:\n",
        "            question = qa['question']\n",
        "            for answer in qa['answers']:\n",
        "                    contexts.append(context)\n",
        "                    questions.append(question)\n",
        "                    answers.append(answer)\n",
        "    max_context_length = max(len(context) for context in contexts)\n",
        "    max_answer_length = max(len(answer['text']) for answer in answers)\n",
        "    max_question_length = max(len(question) for question in questions)\n",
        "\n",
        "\n",
        "    #print(\"Maximum context length:\", max_context_length)\n",
        "    #print(\"Maximum question length:\", max_question_length)\n",
        "    #print(\"Maximum answer length:\", max_answer_length)\n",
        "\n",
        "    return contexts, questions, answers\n",
        "print(\"Training set informaiton:\")\n",
        "train_contexts, train_questions, train_answers = read_QA('/content/train (1).json')\n",
        "print(f\"Length of each training array is {len(train_contexts)} elements\")\n",
        "print(f\"The first 5 Questions of Training array:\\n{train_questions[:5]}\")\n",
        "print('*'*10)\n",
        "print(\"Validation set informaiton:\")\n",
        "val_contexts, val_questions, val_answers = read_QA('/content/test (1).json')\n",
        "print(f\"Length of each Validation array is {len(val_contexts)} elements\")\n",
        "print(f\"The first 5 Questions of Validation array:\\n{val_questions[:5]}\")\n",
        "print('*'*10)\n",
        "print(\"Testing set informaiton:\")\n",
        "test_contexts, test_questions, test_answers = read_QA('/content/val (1).json')\n",
        "print(f\"Length of each testing array is {len(test_contexts)} elemants\")\n",
        "print(f\"The first 5 Questions of Testing array:\\n{test_questions[:5]}\")"
      ]
    },
    {
      "cell_type": "markdown",
      "metadata": {
        "id": "kdyN0Q45MFru"
      },
      "source": [
        "# **Add start and end for every answer**"
      ]
    },
    {
      "cell_type": "code",
      "execution_count": null,
      "metadata": {
        "id": "fviB2QCAI7gk",
        "colab": {
          "base_uri": "https://localhost:8080/"
        },
        "outputId": "ed6358a5-948c-495f-a60b-799b15f56e34"
      },
      "outputs": [
        {
          "output_type": "stream",
          "name": "stdout",
          "text": [
            "A sample of train answers array before adding 'answer_end' : {'text': 'ظهور بقع سوداء أو بيضاء غير منتظمة.', 'answer_start': 324}\n",
            "A sample of train answers array after adding 'answer_end' :{'text': 'ظهور بقع سوداء أو بيضاء غير منتظمة.', 'answer_start': 324, 'answer_end': 359}\n"
          ]
        }
      ],
      "source": [
        "print(f\"A sample of train answers array before adding 'answer_end' : {train_answers[0]}\")\n",
        "def add_start_end_idx(answers, contexts):\n",
        "    for answer, context in zip(answers, contexts):\n",
        "        gold_text = answer['text']\n",
        "        start_idx = context.index(gold_text,0)\n",
        "        end_idx = start_idx + len(gold_text)\n",
        "\n",
        "        if context[start_idx:end_idx] == gold_text:\n",
        "            answer['answer_start'] = start_idx\n",
        "            answer['answer_end'] = end_idx\n",
        "\n",
        "\n",
        "add_start_end_idx(train_answers, train_contexts)\n",
        "add_start_end_idx(val_answers, val_contexts)\n",
        "add_start_end_idx(test_answers, test_contexts)\n",
        "print(f\"A sample of train answers array after adding 'answer_end' :{train_answers[0]}\")"
      ]
    },
    {
      "cell_type": "markdown",
      "metadata": {
        "id": "YtcApiwYL0-8"
      },
      "source": [
        "# ***  Preprocessing step for context ***\n"
      ]
    },
    {
      "cell_type": "code",
      "execution_count": null,
      "metadata": {
        "id": "mjwHY8ZO9nXQ"
      },
      "outputs": [],
      "source": [
        "# from arabert.preprocess import ArabertPreprocessor\n",
        "\n",
        "# model_name = 'aubmindlab/bert-base-arabertv02'\n",
        "# arabert_prep = ArabertPreprocessor(model_name)"
      ]
    },
    {
      "cell_type": "code",
      "execution_count": null,
      "metadata": {
        "id": "YRPgTUFD9p9G"
      },
      "outputs": [],
      "source": [
        "# # Applying the arabert preprocessor to the 'train_context'\n",
        "# preprocessed_tarined_contexts = []\n",
        "# for context in train_contexts:\n",
        "#     preprocessed_context = arabert_prep.preprocess(context)\n",
        "#     preprocessed_tarined_contexts.append(preprocessed_context)\n"
      ]
    },
    {
      "cell_type": "code",
      "execution_count": null,
      "metadata": {
        "id": "s8cASQ_kAsx9"
      },
      "outputs": [],
      "source": [
        "# # Applying the arabert preprocessor to the 'val_context'\n",
        "# preprocessed_val_contexts = []\n",
        "# for context in val_contexts:\n",
        "#     preprocessed_context = arabert_prep.preprocess(context)\n",
        "#     preprocessed_val_contexts.append(preprocessed_context)"
      ]
    },
    {
      "cell_type": "markdown",
      "metadata": {
        "id": "5XFX3CPRLljp"
      },
      "source": [
        "# **Making sure every answer has an end key**\n",
        "\n",
        "\n"
      ]
    },
    {
      "cell_type": "code",
      "execution_count": null,
      "metadata": {
        "id": "B0TNan_HQ44m"
      },
      "outputs": [],
      "source": [
        "def find_dicts_without_answer_end(answers):\n",
        "    dicts_without_answer_end = []\n",
        "    for i, answer_dict in enumerate(answers):\n",
        "        if 'answer_end' not in answer_dict:\n",
        "            dicts_without_answer_end.append((i, answer_dict))\n",
        "    return dicts_without_answer_end"
      ]
    },
    {
      "cell_type": "code",
      "execution_count": null,
      "metadata": {
        "colab": {
          "base_uri": "https://localhost:8080/"
        },
        "id": "7np4vOheTBNt",
        "outputId": "111821fe-083a-4aca-f666-2cf6763bf7ad"
      },
      "outputs": [
        {
          "output_type": "stream",
          "name": "stdout",
          "text": [
            "All dictionaries in train_answers have 'answer_end' key.\n"
          ]
        }
      ],
      "source": [
        "dicts_without_answer_end = find_dicts_without_answer_end(train_answers)\n",
        "if dicts_without_answer_end:\n",
        "    print(\"Dictionaries without 'answer_end' key:\")\n",
        "    for index, answer_dict in dicts_without_answer_end:\n",
        "        print(f\"Index: {index}, Dictionary: {answer_dict}\")\n",
        "else:\n",
        "    print(\"All dictionaries in train_answers have 'answer_end' key.\")"
      ]
    },
    {
      "cell_type": "code",
      "execution_count": null,
      "metadata": {
        "colab": {
          "base_uri": "https://localhost:8080/"
        },
        "id": "QCnckdliTCIT",
        "outputId": "96a123fc-c39a-43e0-be0c-97ddb111874f"
      },
      "outputs": [
        {
          "output_type": "stream",
          "name": "stdout",
          "text": [
            "All dictionaries in val_answers have 'answer_end' key.\n"
          ]
        }
      ],
      "source": [
        "dicts_without_answer_end = find_dicts_without_answer_end(val_answers)\n",
        "if dicts_without_answer_end:\n",
        "    print(\"Dictionaries without 'answer_end' key:\")\n",
        "    for index, answer_dict in dicts_without_answer_end:\n",
        "        print(f\"Index: {index}, Dictionary: {answer_dict}\")\n",
        "else:\n",
        "    print(\"All dictionaries in val_answers have 'answer_end' key.\")"
      ]
    },
    {
      "cell_type": "code",
      "execution_count": null,
      "metadata": {
        "colab": {
          "base_uri": "https://localhost:8080/"
        },
        "id": "0M57cxvjXMaw",
        "outputId": "30b2d6bb-fe16-4c85-e847-356f594c4296"
      },
      "outputs": [
        {
          "output_type": "stream",
          "name": "stdout",
          "text": [
            "All dictionaries in test_answers have 'answer_end' key.\n"
          ]
        }
      ],
      "source": [
        "dicts_without_answer_end = find_dicts_without_answer_end(test_answers)\n",
        "if dicts_without_answer_end:\n",
        "    print(\"Dictionaries without 'answer_end' key:\")\n",
        "    for index, answer_dict in dicts_without_answer_end:\n",
        "        print(f\"Index: {index}, Dictionary: {answer_dict}\")\n",
        "else:\n",
        "    print(\"All dictionaries in test_answers have 'answer_end' key.\")"
      ]
    },
    {
      "cell_type": "markdown",
      "metadata": {
        "id": "NaNdnajX8GJ6"
      },
      "source": [
        "# **Tokenizer**"
      ]
    },
    {
      "cell_type": "code",
      "execution_count": null,
      "metadata": {
        "colab": {
          "base_uri": "https://localhost:8080/"
        },
        "id": "J5xfTypWMkBz",
        "outputId": "0037e999-2d96-4f0f-8f8e-2d56e8058dcf"
      },
      "outputs": [
        {
          "output_type": "stream",
          "name": "stderr",
          "text": [
            "/usr/local/lib/python3.10/dist-packages/huggingface_hub/utils/_token.py:89: UserWarning: \n",
            "The secret `HF_TOKEN` does not exist in your Colab secrets.\n",
            "To authenticate with the Hugging Face Hub, create a token in your settings tab (https://huggingface.co/settings/tokens), set it as secret in your Google Colab and restart your session.\n",
            "You will be able to reuse this secret in all of your notebooks.\n",
            "Please note that authentication is recommended but still optional to access public models or datasets.\n",
            "  warnings.warn(\n"
          ]
        }
      ],
      "source": [
        "tokenizer = AutoTokenizer.from_pretrained('MMars/Question_Answering_AraBERT_xtreme_ar')\n",
        "train_encodings = tokenizer(train_contexts, train_questions, truncation=True, padding=True)\n",
        "val_encodings = tokenizer(val_contexts, val_questions, truncation=True, padding=True)\n",
        "test_encodings = tokenizer(test_contexts, test_questions, truncation=True, padding=True)"
      ]
    },
    {
      "cell_type": "code",
      "source": [
        "print(f\"Encodings before: {train_encodings[1]}\")"
      ],
      "metadata": {
        "colab": {
          "base_uri": "https://localhost:8080/"
        },
        "id": "geXvaVM1SrT7",
        "outputId": "acd3a5a2-f31e-410c-e14f-91c303f9778a"
      },
      "execution_count": null,
      "outputs": [
        {
          "output_type": "stream",
          "name": "stdout",
          "text": [
            "Encodings before: Encoding(num_tokens=463, attributes=[ids, type_ids, tokens, offsets, attention_mask, special_tokens_mask, overflowing])\n"
          ]
        }
      ]
    },
    {
      "cell_type": "code",
      "execution_count": null,
      "metadata": {
        "id": "xIV3UxJhM6xr",
        "colab": {
          "base_uri": "https://localhost:8080/"
        },
        "outputId": "2aa2f701-db1e-426f-da98-8ae9cf3f7d90"
      },
      "outputs": [
        {
          "output_type": "stream",
          "name": "stdout",
          "text": [
            "Encodings after: Encoding(num_tokens=463, attributes=[ids, type_ids, tokens, offsets, attention_mask, special_tokens_mask, overflowing])\n"
          ]
        }
      ],
      "source": [
        "def add_token_positions(encodings, answers):\n",
        "    start_positions = []\n",
        "    end_positions = []\n",
        "    for i in range(len(answers)):\n",
        "        start_positions.append(encodings.char_to_token(i, answers[i]['answer_start']))\n",
        "        end_positions.append(encodings.char_to_token(i, answers[i]['answer_end']-1))\n",
        "        # if None, the answer passage has been truncated\n",
        "        if start_positions[-1] is None:\n",
        "            start_positions[-1] = tokenizer.model_max_length\n",
        "        if end_positions[-1] is None:\n",
        "            end_positions[-1] = tokenizer.model_max_length\n",
        "    encodings.update({'start_positions': start_positions, 'end_positions': end_positions})\n",
        "\n",
        "add_token_positions(train_encodings, train_answers)\n",
        "add_token_positions(val_encodings, val_answers)\n",
        "add_token_positions(test_encodings, test_answers)\n",
        "print(f\"Encodings after: {train_encodings[1]}\")"
      ]
    },
    {
      "cell_type": "markdown",
      "metadata": {
        "id": "21Rnvrx2YKA9"
      },
      "source": [
        "# Dataset loader and model setting\n",
        "\n",
        "---\n",
        "\n"
      ]
    },
    {
      "cell_type": "code",
      "execution_count": null,
      "metadata": {
        "id": "NhfiOXMPWIrO",
        "colab": {
          "base_uri": "https://localhost:8080/"
        },
        "outputId": "590848c8-71d1-4ae2-b95b-f23b0f3553f1"
      },
      "outputs": [
        {
          "output_type": "stream",
          "name": "stdout",
          "text": [
            "A sample of train answers after tokanization :\n",
            " {'input_ids': tensor([    2, 13461, 34291,   200, 19673,  1585,   121, 12190, 28096,   103,\n",
            "         1034,   306, 19304, 20950, 10564,  1281,   103, 58608,   181, 14227,\n",
            "         2136, 28611,   103, 26667, 28611,   103, 35579,   305,  3631, 17197,\n",
            "         1557,   305,  1282,   773,  1160,   103, 31801,   465,   233,   199,\n",
            "        52117,   103, 17056, 54267, 10221,  1305, 47292,  3165,    20,  9733,\n",
            "        47554, 26932, 31045,  1338,  2077,   420, 41768, 21136,   324,  9309,\n",
            "          914, 57362,   315, 46055,   817, 10216,   201,  6912, 17243, 12368,\n",
            "         1632,  6289,   383,  1377,   816, 56067,   198,  1693,   563,   829,\n",
            "          819, 49675,   401,  1023,   802,    20,     3, 25830, 13461, 34291,\n",
            "          200,   105,     3,     0,     0,     0,     0,     0,     0,     0,\n",
            "            0,     0,     0,     0,     0,     0,     0,     0,     0,     0,\n",
            "            0,     0,     0,     0,     0,     0,     0,     0,     0,     0,\n",
            "            0,     0,     0,     0,     0,     0,     0,     0,     0,     0,\n",
            "            0,     0,     0,     0,     0,     0,     0,     0,     0,     0,\n",
            "            0,     0,     0,     0,     0,     0,     0,     0,     0,     0,\n",
            "            0,     0,     0,     0,     0,     0,     0,     0,     0,     0,\n",
            "            0,     0,     0,     0,     0,     0,     0,     0,     0,     0,\n",
            "            0,     0,     0,     0,     0,     0,     0,     0,     0,     0,\n",
            "            0,     0,     0,     0,     0,     0,     0,     0,     0,     0,\n",
            "            0,     0,     0,     0,     0,     0,     0,     0,     0,     0,\n",
            "            0,     0,     0,     0,     0,     0,     0,     0,     0,     0,\n",
            "            0,     0,     0,     0,     0,     0,     0,     0,     0,     0,\n",
            "            0,     0,     0,     0,     0,     0,     0,     0,     0,     0,\n",
            "            0,     0,     0,     0,     0,     0,     0,     0,     0,     0,\n",
            "            0,     0,     0,     0,     0,     0,     0,     0,     0,     0,\n",
            "            0,     0,     0,     0,     0,     0,     0,     0,     0,     0,\n",
            "            0,     0,     0,     0,     0,     0,     0,     0,     0,     0,\n",
            "            0,     0,     0,     0,     0,     0,     0,     0,     0,     0,\n",
            "            0,     0,     0,     0,     0,     0,     0,     0,     0,     0,\n",
            "            0,     0,     0,     0,     0,     0,     0,     0,     0,     0,\n",
            "            0,     0,     0,     0,     0,     0,     0,     0,     0,     0,\n",
            "            0,     0,     0,     0,     0,     0,     0,     0,     0,     0,\n",
            "            0,     0,     0,     0,     0,     0,     0,     0,     0,     0,\n",
            "            0,     0,     0,     0,     0,     0,     0,     0,     0,     0,\n",
            "            0,     0,     0,     0,     0,     0,     0,     0,     0,     0,\n",
            "            0,     0,     0,     0,     0,     0,     0,     0,     0,     0,\n",
            "            0,     0,     0,     0,     0,     0,     0,     0,     0,     0,\n",
            "            0,     0,     0,     0,     0,     0,     0,     0,     0,     0,\n",
            "            0,     0,     0,     0,     0,     0,     0,     0,     0,     0,\n",
            "            0,     0,     0,     0,     0,     0,     0,     0,     0,     0,\n",
            "            0,     0,     0,     0,     0,     0,     0,     0,     0,     0,\n",
            "            0,     0,     0,     0,     0,     0,     0,     0,     0,     0,\n",
            "            0,     0,     0,     0,     0,     0,     0,     0,     0,     0,\n",
            "            0,     0,     0,     0,     0,     0,     0,     0,     0,     0,\n",
            "            0,     0,     0,     0,     0,     0,     0,     0,     0,     0,\n",
            "            0,     0,     0,     0,     0,     0,     0,     0,     0,     0,\n",
            "            0,     0,     0]), 'token_type_ids': tensor([0, 0, 0, 0, 0, 0, 0, 0, 0, 0, 0, 0, 0, 0, 0, 0, 0, 0, 0, 0, 0, 0, 0, 0,\n",
            "        0, 0, 0, 0, 0, 0, 0, 0, 0, 0, 0, 0, 0, 0, 0, 0, 0, 0, 0, 0, 0, 0, 0, 0,\n",
            "        0, 0, 0, 0, 0, 0, 0, 0, 0, 0, 0, 0, 0, 0, 0, 0, 0, 0, 0, 0, 0, 0, 0, 0,\n",
            "        0, 0, 0, 0, 0, 0, 0, 0, 0, 0, 0, 0, 0, 0, 0, 1, 1, 1, 1, 1, 1, 0, 0, 0,\n",
            "        0, 0, 0, 0, 0, 0, 0, 0, 0, 0, 0, 0, 0, 0, 0, 0, 0, 0, 0, 0, 0, 0, 0, 0,\n",
            "        0, 0, 0, 0, 0, 0, 0, 0, 0, 0, 0, 0, 0, 0, 0, 0, 0, 0, 0, 0, 0, 0, 0, 0,\n",
            "        0, 0, 0, 0, 0, 0, 0, 0, 0, 0, 0, 0, 0, 0, 0, 0, 0, 0, 0, 0, 0, 0, 0, 0,\n",
            "        0, 0, 0, 0, 0, 0, 0, 0, 0, 0, 0, 0, 0, 0, 0, 0, 0, 0, 0, 0, 0, 0, 0, 0,\n",
            "        0, 0, 0, 0, 0, 0, 0, 0, 0, 0, 0, 0, 0, 0, 0, 0, 0, 0, 0, 0, 0, 0, 0, 0,\n",
            "        0, 0, 0, 0, 0, 0, 0, 0, 0, 0, 0, 0, 0, 0, 0, 0, 0, 0, 0, 0, 0, 0, 0, 0,\n",
            "        0, 0, 0, 0, 0, 0, 0, 0, 0, 0, 0, 0, 0, 0, 0, 0, 0, 0, 0, 0, 0, 0, 0, 0,\n",
            "        0, 0, 0, 0, 0, 0, 0, 0, 0, 0, 0, 0, 0, 0, 0, 0, 0, 0, 0, 0, 0, 0, 0, 0,\n",
            "        0, 0, 0, 0, 0, 0, 0, 0, 0, 0, 0, 0, 0, 0, 0, 0, 0, 0, 0, 0, 0, 0, 0, 0,\n",
            "        0, 0, 0, 0, 0, 0, 0, 0, 0, 0, 0, 0, 0, 0, 0, 0, 0, 0, 0, 0, 0, 0, 0, 0,\n",
            "        0, 0, 0, 0, 0, 0, 0, 0, 0, 0, 0, 0, 0, 0, 0, 0, 0, 0, 0, 0, 0, 0, 0, 0,\n",
            "        0, 0, 0, 0, 0, 0, 0, 0, 0, 0, 0, 0, 0, 0, 0, 0, 0, 0, 0, 0, 0, 0, 0, 0,\n",
            "        0, 0, 0, 0, 0, 0, 0, 0, 0, 0, 0, 0, 0, 0, 0, 0, 0, 0, 0, 0, 0, 0, 0, 0,\n",
            "        0, 0, 0, 0, 0, 0, 0, 0, 0, 0, 0, 0, 0, 0, 0, 0, 0, 0, 0, 0, 0, 0, 0, 0,\n",
            "        0, 0, 0, 0, 0, 0, 0, 0, 0, 0, 0, 0, 0, 0, 0, 0, 0, 0, 0, 0, 0, 0, 0, 0,\n",
            "        0, 0, 0, 0, 0, 0, 0]), 'attention_mask': tensor([1, 1, 1, 1, 1, 1, 1, 1, 1, 1, 1, 1, 1, 1, 1, 1, 1, 1, 1, 1, 1, 1, 1, 1,\n",
            "        1, 1, 1, 1, 1, 1, 1, 1, 1, 1, 1, 1, 1, 1, 1, 1, 1, 1, 1, 1, 1, 1, 1, 1,\n",
            "        1, 1, 1, 1, 1, 1, 1, 1, 1, 1, 1, 1, 1, 1, 1, 1, 1, 1, 1, 1, 1, 1, 1, 1,\n",
            "        1, 1, 1, 1, 1, 1, 1, 1, 1, 1, 1, 1, 1, 1, 1, 1, 1, 1, 1, 1, 1, 0, 0, 0,\n",
            "        0, 0, 0, 0, 0, 0, 0, 0, 0, 0, 0, 0, 0, 0, 0, 0, 0, 0, 0, 0, 0, 0, 0, 0,\n",
            "        0, 0, 0, 0, 0, 0, 0, 0, 0, 0, 0, 0, 0, 0, 0, 0, 0, 0, 0, 0, 0, 0, 0, 0,\n",
            "        0, 0, 0, 0, 0, 0, 0, 0, 0, 0, 0, 0, 0, 0, 0, 0, 0, 0, 0, 0, 0, 0, 0, 0,\n",
            "        0, 0, 0, 0, 0, 0, 0, 0, 0, 0, 0, 0, 0, 0, 0, 0, 0, 0, 0, 0, 0, 0, 0, 0,\n",
            "        0, 0, 0, 0, 0, 0, 0, 0, 0, 0, 0, 0, 0, 0, 0, 0, 0, 0, 0, 0, 0, 0, 0, 0,\n",
            "        0, 0, 0, 0, 0, 0, 0, 0, 0, 0, 0, 0, 0, 0, 0, 0, 0, 0, 0, 0, 0, 0, 0, 0,\n",
            "        0, 0, 0, 0, 0, 0, 0, 0, 0, 0, 0, 0, 0, 0, 0, 0, 0, 0, 0, 0, 0, 0, 0, 0,\n",
            "        0, 0, 0, 0, 0, 0, 0, 0, 0, 0, 0, 0, 0, 0, 0, 0, 0, 0, 0, 0, 0, 0, 0, 0,\n",
            "        0, 0, 0, 0, 0, 0, 0, 0, 0, 0, 0, 0, 0, 0, 0, 0, 0, 0, 0, 0, 0, 0, 0, 0,\n",
            "        0, 0, 0, 0, 0, 0, 0, 0, 0, 0, 0, 0, 0, 0, 0, 0, 0, 0, 0, 0, 0, 0, 0, 0,\n",
            "        0, 0, 0, 0, 0, 0, 0, 0, 0, 0, 0, 0, 0, 0, 0, 0, 0, 0, 0, 0, 0, 0, 0, 0,\n",
            "        0, 0, 0, 0, 0, 0, 0, 0, 0, 0, 0, 0, 0, 0, 0, 0, 0, 0, 0, 0, 0, 0, 0, 0,\n",
            "        0, 0, 0, 0, 0, 0, 0, 0, 0, 0, 0, 0, 0, 0, 0, 0, 0, 0, 0, 0, 0, 0, 0, 0,\n",
            "        0, 0, 0, 0, 0, 0, 0, 0, 0, 0, 0, 0, 0, 0, 0, 0, 0, 0, 0, 0, 0, 0, 0, 0,\n",
            "        0, 0, 0, 0, 0, 0, 0, 0, 0, 0, 0, 0, 0, 0, 0, 0, 0, 0, 0, 0, 0, 0, 0, 0,\n",
            "        0, 0, 0, 0, 0, 0, 0]), 'start_positions': tensor(1), 'end_positions': tensor(47)}\n"
          ]
        }
      ],
      "source": [
        "class QADataset(torch.utils.data.Dataset):\n",
        "    def __init__(self, encodings):\n",
        "        self.encodings = encodings\n",
        "\n",
        "    def __getitem__(self, idx):\n",
        "        return {key: torch.tensor(val[idx]) for key, val in self.encodings.items()}\n",
        "\n",
        "    def __len__(self):\n",
        "        return len(self.encodings.input_ids)\n",
        "\n",
        "train_dataset = QADataset(train_encodings)\n",
        "val_dataset = QADataset(val_encodings)\n",
        "test_dataset = QADataset(test_encodings)\n",
        "print(f\"A sample of train answers after tokanization :\\n {train_dataset[1]}\")"
      ]
    },
    {
      "cell_type": "code",
      "execution_count": null,
      "metadata": {
        "colab": {
          "base_uri": "https://localhost:8080/"
        },
        "id": "pHY_qbdNYB_r",
        "outputId": "10bad86f-0876-4c9e-cf54-f0a8c3cd238f"
      },
      "outputs": [
        {
          "output_type": "stream",
          "name": "stderr",
          "text": [
            "Some weights of BertForQuestionAnswering were not initialized from the model checkpoint at aubmindlab/bert-base-arabertv02 and are newly initialized: ['qa_outputs.bias', 'qa_outputs.weight']\n",
            "You should probably TRAIN this model on a down-stream task to be able to use it for predictions and inference.\n"
          ]
        }
      ],
      "source": [
        "model = AutoModelForQuestionAnswering.from_pretrained('MMars/Question_Answering_AraBERT_xtreme_ar')"
      ]
    },
    {
      "cell_type": "code",
      "execution_count": null,
      "metadata": {
        "colab": {
          "base_uri": "https://localhost:8080/"
        },
        "id": "BUqJjfhMqXGF",
        "outputId": "de0b882a-fc5e-42fe-8195-b8b525b9d777"
      },
      "outputs": [
        {
          "output_type": "stream",
          "name": "stdout",
          "text": [
            "Parameter: embeddings.word_embeddings.weight, requires_grad: True\n",
            "Parameter: embeddings.position_embeddings.weight, requires_grad: True\n",
            "Parameter: embeddings.token_type_embeddings.weight, requires_grad: True\n",
            "Parameter: embeddings.LayerNorm.weight, requires_grad: True\n",
            "Parameter: embeddings.LayerNorm.bias, requires_grad: True\n",
            "Parameter: encoder.layer.0.attention.self.query.weight, requires_grad: False\n",
            "Parameter: encoder.layer.0.attention.self.query.bias, requires_grad: False\n",
            "Parameter: encoder.layer.0.attention.self.key.weight, requires_grad: False\n",
            "Parameter: encoder.layer.0.attention.self.key.bias, requires_grad: False\n",
            "Parameter: encoder.layer.0.attention.self.value.weight, requires_grad: False\n",
            "Parameter: encoder.layer.0.attention.self.value.bias, requires_grad: False\n",
            "Parameter: encoder.layer.0.attention.output.dense.weight, requires_grad: False\n",
            "Parameter: encoder.layer.0.attention.output.dense.bias, requires_grad: False\n",
            "Parameter: encoder.layer.0.attention.output.LayerNorm.weight, requires_grad: False\n",
            "Parameter: encoder.layer.0.attention.output.LayerNorm.bias, requires_grad: False\n",
            "Parameter: encoder.layer.0.intermediate.dense.weight, requires_grad: False\n",
            "Parameter: encoder.layer.0.intermediate.dense.bias, requires_grad: False\n",
            "Parameter: encoder.layer.0.output.dense.weight, requires_grad: False\n",
            "Parameter: encoder.layer.0.output.dense.bias, requires_grad: False\n",
            "Parameter: encoder.layer.0.output.LayerNorm.weight, requires_grad: False\n",
            "Parameter: encoder.layer.0.output.LayerNorm.bias, requires_grad: False\n",
            "Parameter: encoder.layer.1.attention.self.query.weight, requires_grad: True\n",
            "Parameter: encoder.layer.1.attention.self.query.bias, requires_grad: True\n",
            "Parameter: encoder.layer.1.attention.self.key.weight, requires_grad: True\n",
            "Parameter: encoder.layer.1.attention.self.key.bias, requires_grad: True\n",
            "Parameter: encoder.layer.1.attention.self.value.weight, requires_grad: True\n",
            "Parameter: encoder.layer.1.attention.self.value.bias, requires_grad: True\n",
            "Parameter: encoder.layer.1.attention.output.dense.weight, requires_grad: True\n",
            "Parameter: encoder.layer.1.attention.output.dense.bias, requires_grad: True\n",
            "Parameter: encoder.layer.1.attention.output.LayerNorm.weight, requires_grad: True\n",
            "Parameter: encoder.layer.1.attention.output.LayerNorm.bias, requires_grad: True\n",
            "Parameter: encoder.layer.1.intermediate.dense.weight, requires_grad: True\n",
            "Parameter: encoder.layer.1.intermediate.dense.bias, requires_grad: True\n",
            "Parameter: encoder.layer.1.output.dense.weight, requires_grad: True\n",
            "Parameter: encoder.layer.1.output.dense.bias, requires_grad: True\n",
            "Parameter: encoder.layer.1.output.LayerNorm.weight, requires_grad: True\n",
            "Parameter: encoder.layer.1.output.LayerNorm.bias, requires_grad: True\n",
            "Parameter: encoder.layer.2.attention.self.query.weight, requires_grad: True\n",
            "Parameter: encoder.layer.2.attention.self.query.bias, requires_grad: True\n",
            "Parameter: encoder.layer.2.attention.self.key.weight, requires_grad: True\n",
            "Parameter: encoder.layer.2.attention.self.key.bias, requires_grad: True\n",
            "Parameter: encoder.layer.2.attention.self.value.weight, requires_grad: True\n",
            "Parameter: encoder.layer.2.attention.self.value.bias, requires_grad: True\n",
            "Parameter: encoder.layer.2.attention.output.dense.weight, requires_grad: True\n",
            "Parameter: encoder.layer.2.attention.output.dense.bias, requires_grad: True\n",
            "Parameter: encoder.layer.2.attention.output.LayerNorm.weight, requires_grad: True\n",
            "Parameter: encoder.layer.2.attention.output.LayerNorm.bias, requires_grad: True\n",
            "Parameter: encoder.layer.2.intermediate.dense.weight, requires_grad: True\n",
            "Parameter: encoder.layer.2.intermediate.dense.bias, requires_grad: True\n",
            "Parameter: encoder.layer.2.output.dense.weight, requires_grad: True\n",
            "Parameter: encoder.layer.2.output.dense.bias, requires_grad: True\n",
            "Parameter: encoder.layer.2.output.LayerNorm.weight, requires_grad: True\n",
            "Parameter: encoder.layer.2.output.LayerNorm.bias, requires_grad: True\n",
            "Parameter: encoder.layer.3.attention.self.query.weight, requires_grad: True\n",
            "Parameter: encoder.layer.3.attention.self.query.bias, requires_grad: True\n",
            "Parameter: encoder.layer.3.attention.self.key.weight, requires_grad: True\n",
            "Parameter: encoder.layer.3.attention.self.key.bias, requires_grad: True\n",
            "Parameter: encoder.layer.3.attention.self.value.weight, requires_grad: True\n",
            "Parameter: encoder.layer.3.attention.self.value.bias, requires_grad: True\n",
            "Parameter: encoder.layer.3.attention.output.dense.weight, requires_grad: True\n",
            "Parameter: encoder.layer.3.attention.output.dense.bias, requires_grad: True\n",
            "Parameter: encoder.layer.3.attention.output.LayerNorm.weight, requires_grad: True\n",
            "Parameter: encoder.layer.3.attention.output.LayerNorm.bias, requires_grad: True\n",
            "Parameter: encoder.layer.3.intermediate.dense.weight, requires_grad: True\n",
            "Parameter: encoder.layer.3.intermediate.dense.bias, requires_grad: True\n",
            "Parameter: encoder.layer.3.output.dense.weight, requires_grad: True\n",
            "Parameter: encoder.layer.3.output.dense.bias, requires_grad: True\n",
            "Parameter: encoder.layer.3.output.LayerNorm.weight, requires_grad: True\n",
            "Parameter: encoder.layer.3.output.LayerNorm.bias, requires_grad: True\n",
            "Parameter: encoder.layer.4.attention.self.query.weight, requires_grad: True\n",
            "Parameter: encoder.layer.4.attention.self.query.bias, requires_grad: True\n",
            "Parameter: encoder.layer.4.attention.self.key.weight, requires_grad: True\n",
            "Parameter: encoder.layer.4.attention.self.key.bias, requires_grad: True\n",
            "Parameter: encoder.layer.4.attention.self.value.weight, requires_grad: True\n",
            "Parameter: encoder.layer.4.attention.self.value.bias, requires_grad: True\n",
            "Parameter: encoder.layer.4.attention.output.dense.weight, requires_grad: True\n",
            "Parameter: encoder.layer.4.attention.output.dense.bias, requires_grad: True\n",
            "Parameter: encoder.layer.4.attention.output.LayerNorm.weight, requires_grad: True\n",
            "Parameter: encoder.layer.4.attention.output.LayerNorm.bias, requires_grad: True\n",
            "Parameter: encoder.layer.4.intermediate.dense.weight, requires_grad: True\n",
            "Parameter: encoder.layer.4.intermediate.dense.bias, requires_grad: True\n",
            "Parameter: encoder.layer.4.output.dense.weight, requires_grad: True\n",
            "Parameter: encoder.layer.4.output.dense.bias, requires_grad: True\n",
            "Parameter: encoder.layer.4.output.LayerNorm.weight, requires_grad: True\n",
            "Parameter: encoder.layer.4.output.LayerNorm.bias, requires_grad: True\n",
            "Parameter: encoder.layer.5.attention.self.query.weight, requires_grad: True\n",
            "Parameter: encoder.layer.5.attention.self.query.bias, requires_grad: True\n",
            "Parameter: encoder.layer.5.attention.self.key.weight, requires_grad: True\n",
            "Parameter: encoder.layer.5.attention.self.key.bias, requires_grad: True\n",
            "Parameter: encoder.layer.5.attention.self.value.weight, requires_grad: True\n",
            "Parameter: encoder.layer.5.attention.self.value.bias, requires_grad: True\n",
            "Parameter: encoder.layer.5.attention.output.dense.weight, requires_grad: True\n",
            "Parameter: encoder.layer.5.attention.output.dense.bias, requires_grad: True\n",
            "Parameter: encoder.layer.5.attention.output.LayerNorm.weight, requires_grad: True\n",
            "Parameter: encoder.layer.5.attention.output.LayerNorm.bias, requires_grad: True\n",
            "Parameter: encoder.layer.5.intermediate.dense.weight, requires_grad: True\n",
            "Parameter: encoder.layer.5.intermediate.dense.bias, requires_grad: True\n",
            "Parameter: encoder.layer.5.output.dense.weight, requires_grad: True\n",
            "Parameter: encoder.layer.5.output.dense.bias, requires_grad: True\n",
            "Parameter: encoder.layer.5.output.LayerNorm.weight, requires_grad: True\n",
            "Parameter: encoder.layer.5.output.LayerNorm.bias, requires_grad: True\n",
            "Parameter: encoder.layer.6.attention.self.query.weight, requires_grad: True\n",
            "Parameter: encoder.layer.6.attention.self.query.bias, requires_grad: True\n",
            "Parameter: encoder.layer.6.attention.self.key.weight, requires_grad: True\n",
            "Parameter: encoder.layer.6.attention.self.key.bias, requires_grad: True\n",
            "Parameter: encoder.layer.6.attention.self.value.weight, requires_grad: True\n",
            "Parameter: encoder.layer.6.attention.self.value.bias, requires_grad: True\n",
            "Parameter: encoder.layer.6.attention.output.dense.weight, requires_grad: True\n",
            "Parameter: encoder.layer.6.attention.output.dense.bias, requires_grad: True\n",
            "Parameter: encoder.layer.6.attention.output.LayerNorm.weight, requires_grad: True\n",
            "Parameter: encoder.layer.6.attention.output.LayerNorm.bias, requires_grad: True\n",
            "Parameter: encoder.layer.6.intermediate.dense.weight, requires_grad: True\n",
            "Parameter: encoder.layer.6.intermediate.dense.bias, requires_grad: True\n",
            "Parameter: encoder.layer.6.output.dense.weight, requires_grad: True\n",
            "Parameter: encoder.layer.6.output.dense.bias, requires_grad: True\n",
            "Parameter: encoder.layer.6.output.LayerNorm.weight, requires_grad: True\n",
            "Parameter: encoder.layer.6.output.LayerNorm.bias, requires_grad: True\n",
            "Parameter: encoder.layer.7.attention.self.query.weight, requires_grad: True\n",
            "Parameter: encoder.layer.7.attention.self.query.bias, requires_grad: True\n",
            "Parameter: encoder.layer.7.attention.self.key.weight, requires_grad: True\n",
            "Parameter: encoder.layer.7.attention.self.key.bias, requires_grad: True\n",
            "Parameter: encoder.layer.7.attention.self.value.weight, requires_grad: True\n",
            "Parameter: encoder.layer.7.attention.self.value.bias, requires_grad: True\n",
            "Parameter: encoder.layer.7.attention.output.dense.weight, requires_grad: True\n",
            "Parameter: encoder.layer.7.attention.output.dense.bias, requires_grad: True\n",
            "Parameter: encoder.layer.7.attention.output.LayerNorm.weight, requires_grad: True\n",
            "Parameter: encoder.layer.7.attention.output.LayerNorm.bias, requires_grad: True\n",
            "Parameter: encoder.layer.7.intermediate.dense.weight, requires_grad: True\n",
            "Parameter: encoder.layer.7.intermediate.dense.bias, requires_grad: True\n",
            "Parameter: encoder.layer.7.output.dense.weight, requires_grad: True\n",
            "Parameter: encoder.layer.7.output.dense.bias, requires_grad: True\n",
            "Parameter: encoder.layer.7.output.LayerNorm.weight, requires_grad: True\n",
            "Parameter: encoder.layer.7.output.LayerNorm.bias, requires_grad: True\n",
            "Parameter: encoder.layer.8.attention.self.query.weight, requires_grad: True\n",
            "Parameter: encoder.layer.8.attention.self.query.bias, requires_grad: True\n",
            "Parameter: encoder.layer.8.attention.self.key.weight, requires_grad: True\n",
            "Parameter: encoder.layer.8.attention.self.key.bias, requires_grad: True\n",
            "Parameter: encoder.layer.8.attention.self.value.weight, requires_grad: True\n",
            "Parameter: encoder.layer.8.attention.self.value.bias, requires_grad: True\n",
            "Parameter: encoder.layer.8.attention.output.dense.weight, requires_grad: True\n",
            "Parameter: encoder.layer.8.attention.output.dense.bias, requires_grad: True\n",
            "Parameter: encoder.layer.8.attention.output.LayerNorm.weight, requires_grad: True\n",
            "Parameter: encoder.layer.8.attention.output.LayerNorm.bias, requires_grad: True\n",
            "Parameter: encoder.layer.8.intermediate.dense.weight, requires_grad: True\n",
            "Parameter: encoder.layer.8.intermediate.dense.bias, requires_grad: True\n",
            "Parameter: encoder.layer.8.output.dense.weight, requires_grad: True\n",
            "Parameter: encoder.layer.8.output.dense.bias, requires_grad: True\n",
            "Parameter: encoder.layer.8.output.LayerNorm.weight, requires_grad: True\n",
            "Parameter: encoder.layer.8.output.LayerNorm.bias, requires_grad: True\n",
            "Parameter: encoder.layer.9.attention.self.query.weight, requires_grad: True\n",
            "Parameter: encoder.layer.9.attention.self.query.bias, requires_grad: True\n",
            "Parameter: encoder.layer.9.attention.self.key.weight, requires_grad: True\n",
            "Parameter: encoder.layer.9.attention.self.key.bias, requires_grad: True\n",
            "Parameter: encoder.layer.9.attention.self.value.weight, requires_grad: True\n",
            "Parameter: encoder.layer.9.attention.self.value.bias, requires_grad: True\n",
            "Parameter: encoder.layer.9.attention.output.dense.weight, requires_grad: True\n",
            "Parameter: encoder.layer.9.attention.output.dense.bias, requires_grad: True\n",
            "Parameter: encoder.layer.9.attention.output.LayerNorm.weight, requires_grad: True\n",
            "Parameter: encoder.layer.9.attention.output.LayerNorm.bias, requires_grad: True\n",
            "Parameter: encoder.layer.9.intermediate.dense.weight, requires_grad: True\n",
            "Parameter: encoder.layer.9.intermediate.dense.bias, requires_grad: True\n",
            "Parameter: encoder.layer.9.output.dense.weight, requires_grad: True\n",
            "Parameter: encoder.layer.9.output.dense.bias, requires_grad: True\n",
            "Parameter: encoder.layer.9.output.LayerNorm.weight, requires_grad: True\n",
            "Parameter: encoder.layer.9.output.LayerNorm.bias, requires_grad: True\n",
            "Parameter: encoder.layer.10.attention.self.query.weight, requires_grad: True\n",
            "Parameter: encoder.layer.10.attention.self.query.bias, requires_grad: True\n",
            "Parameter: encoder.layer.10.attention.self.key.weight, requires_grad: True\n",
            "Parameter: encoder.layer.10.attention.self.key.bias, requires_grad: True\n",
            "Parameter: encoder.layer.10.attention.self.value.weight, requires_grad: True\n",
            "Parameter: encoder.layer.10.attention.self.value.bias, requires_grad: True\n",
            "Parameter: encoder.layer.10.attention.output.dense.weight, requires_grad: True\n",
            "Parameter: encoder.layer.10.attention.output.dense.bias, requires_grad: True\n",
            "Parameter: encoder.layer.10.attention.output.LayerNorm.weight, requires_grad: True\n",
            "Parameter: encoder.layer.10.attention.output.LayerNorm.bias, requires_grad: True\n",
            "Parameter: encoder.layer.10.intermediate.dense.weight, requires_grad: True\n",
            "Parameter: encoder.layer.10.intermediate.dense.bias, requires_grad: True\n",
            "Parameter: encoder.layer.10.output.dense.weight, requires_grad: True\n",
            "Parameter: encoder.layer.10.output.dense.bias, requires_grad: True\n",
            "Parameter: encoder.layer.10.output.LayerNorm.weight, requires_grad: True\n",
            "Parameter: encoder.layer.10.output.LayerNorm.bias, requires_grad: True\n",
            "Parameter: encoder.layer.11.attention.self.query.weight, requires_grad: True\n",
            "Parameter: encoder.layer.11.attention.self.query.bias, requires_grad: True\n",
            "Parameter: encoder.layer.11.attention.self.key.weight, requires_grad: True\n",
            "Parameter: encoder.layer.11.attention.self.key.bias, requires_grad: True\n",
            "Parameter: encoder.layer.11.attention.self.value.weight, requires_grad: True\n",
            "Parameter: encoder.layer.11.attention.self.value.bias, requires_grad: True\n",
            "Parameter: encoder.layer.11.attention.output.dense.weight, requires_grad: True\n",
            "Parameter: encoder.layer.11.attention.output.dense.bias, requires_grad: True\n",
            "Parameter: encoder.layer.11.attention.output.LayerNorm.weight, requires_grad: True\n",
            "Parameter: encoder.layer.11.attention.output.LayerNorm.bias, requires_grad: True\n",
            "Parameter: encoder.layer.11.intermediate.dense.weight, requires_grad: True\n",
            "Parameter: encoder.layer.11.intermediate.dense.bias, requires_grad: True\n",
            "Parameter: encoder.layer.11.output.dense.weight, requires_grad: True\n",
            "Parameter: encoder.layer.11.output.dense.bias, requires_grad: True\n",
            "Parameter: encoder.layer.11.output.LayerNorm.weight, requires_grad: True\n",
            "Parameter: encoder.layer.11.output.LayerNorm.bias, requires_grad: True\n"
          ]
        }
      ],
      "source": [
        "for layer_idx in range(1):\n",
        "    for name, param in model.bert.encoder.layer[layer_idx].named_parameters():\n",
        "        param.requires_grad = False\n",
        "for name, param in model.bert.named_parameters():\n",
        "    print(f\"Parameter: {name}, requires_grad: {param.requires_grad}\")"
      ]
    },
    {
      "cell_type": "code",
      "execution_count": null,
      "metadata": {
        "id": "pFJqjCIcTytU"
      },
      "outputs": [],
      "source": [
        "model.to(device)\n",
        "model.train()\n",
        "\n",
        "train_loader = DataLoader(train_dataset, batch_size=8, shuffle=True)\n",
        "val_loader = DataLoader(val_dataset, batch_size=8, shuffle=False)\n",
        "test_loader = DataLoader(test_dataset, batch_size=8, shuffle=False)\n",
        "\n",
        "optim = AdamW(model.parameters(), lr=0.0001,no_deprecation_warning=True)\n"
      ]
    },
    {
      "cell_type": "markdown",
      "metadata": {
        "id": "TxOmBGW53JDS"
      },
      "source": [
        "# model training"
      ]
    },
    {
      "cell_type": "code",
      "execution_count": null,
      "metadata": {
        "colab": {
          "base_uri": "https://localhost:8080/",
          "height": 588
        },
        "id": "1zOqhyABZqas",
        "outputId": "1fbef236-d345-487a-fb13-d5aa401bd01d"
      },
      "outputs": [
        {
          "output_type": "stream",
          "name": "stdout",
          "text": [
            "Epoch 1/15,Train Loss: 2.7712741860976586, Val Loss: 1.963636647571217\n",
            "Epoch 2/15,Train Loss: 1.524397027798188, Val Loss: 1.2272485995834523\n",
            "Epoch 3/15,Train Loss: 0.8398300192008415, Val Loss: 0.973262579264966\n",
            "Epoch 4/15,Train Loss: 0.4754907316886462, Val Loss: 1.0737006970765917\n",
            "Epoch 5/15,Train Loss: 0.3255338975323889, Val Loss: 1.0597977137023753\n",
            "Epoch 6/15,Train Loss: 0.28972838355753666, Val Loss: 1.2690761414441196\n",
            "\n",
            "Early stopping triggered after 3 epochs without improvement.\n"
          ]
        },
        {
          "output_type": "display_data",
          "data": {
            "text/plain": [
              "<Figure size 640x480 with 1 Axes>"
            ],
            "image/png": "[encoded data removed]"
          },
          "metadata": {}
        }
      ],
      "source": [
        "import matplotlib.pyplot as plt\n",
        "\n",
        "train_losses = []\n",
        "val_losses = []\n",
        "epochs = 15\n",
        "\n",
        "# Early stopping variables\n",
        "best_val_loss = float('inf')\n",
        "epochs_since_improvement = 0\n",
        "patience = 3\n",
        "\n",
        "for epoch in range(epochs):\n",
        "    # Training phase\n",
        "    epoch_train_losses = []\n",
        "    model.train()\n",
        "    for batch in train_loader:\n",
        "        optim.zero_grad()\n",
        "        input_ids = batch['input_ids'].to(device)\n",
        "        attention_mask = batch['attention_mask'].to(device)\n",
        "        start_positions = batch['start_positions'].to(device)\n",
        "        end_positions = batch['end_positions'].to(device)\n",
        "        outputs = model(input_ids, attention_mask=attention_mask, start_positions=start_positions, end_positions=end_positions)\n",
        "        loss = outputs[0]\n",
        "        loss.backward()\n",
        "        optim.step()\n",
        "        epoch_train_losses.append(loss.item())\n",
        "\n",
        "    epoch_train_loss = sum(epoch_train_losses) / len(epoch_train_losses)\n",
        "    train_losses.append(epoch_train_loss)\n",
        "\n",
        "    # Validation phase\n",
        "    epoch_val_losses = []\n",
        "    model.eval()\n",
        "    with torch.no_grad():\n",
        "        for batch in val_loader:\n",
        "            input_ids = batch['input_ids'].to(device)\n",
        "            attention_mask = batch['attention_mask'].to(device)\n",
        "            start_positions = batch['start_positions'].to(device)\n",
        "            end_positions = batch['end_positions'].to(device)\n",
        "            outputs = model(input_ids, attention_mask=attention_mask, start_positions=start_positions, end_positions=end_positions)\n",
        "            loss = outputs[0]\n",
        "            epoch_val_losses.append(loss.item())\n",
        "\n",
        "    epoch_val_loss = sum(epoch_val_losses) / len(epoch_val_losses)\n",
        "    print(f\"Epoch {epoch + 1}/{epochs},Train Loss: {epoch_train_loss}, Val Loss: {epoch_val_loss}\")\n",
        "    val_losses.append(epoch_val_loss)\n",
        "\n",
        "\n",
        "         # Early stopping check\n",
        "    if epoch_val_loss < best_val_loss:\n",
        "        best_val_loss = epoch_val_loss\n",
        "        epochs_since_improvement = 0\n",
        "        # Save the best model weights (optional)\n",
        "        torch.save(model.state_dict(), 'best_model.pt')\n",
        "    else:\n",
        "        epochs_since_improvement += 1\n",
        "\n",
        "    if epochs_since_improvement >= patience:\n",
        "        print(f\"\\nEarly stopping triggered after {epochs_since_improvement} epochs without improvement.\")\n",
        "        break\n",
        "\n",
        "\n",
        "# Plot the training and validation losses\n",
        "\n",
        "plt.plot(range(1, len(train_losses) + 1), train_losses, label='Train Loss')\n",
        "plt.plot(range(1, len(val_losses) + 1), val_losses, label='Val Loss')\n",
        "plt.xlabel('Epoch')\n",
        "plt.ylabel('Loss')\n",
        "plt.legend()\n",
        "plt.show()"
      ]
    },
    {
      "cell_type": "markdown",
      "metadata": {
        "id": "KuqUEYC4Ynh3"
      },
      "source": [
        "# model testing\n",
        "\n"
      ]
    },
    {
      "cell_type": "code",
      "execution_count": null,
      "metadata": {
        "colab": {
          "base_uri": "https://localhost:8080/"
        },
        "id": "KqE0OTJmeM2U",
        "outputId": "05fdef33-a375-411a-d8f7-98887d94f217"
      },
      "outputs": [
        {
          "output_type": "stream",
          "name": "stdout",
          "text": [
            "Requirement already satisfied: nltk in /usr/local/lib/python3.10/dist-packages (3.8.1)\n",
            "Requirement already satisfied: click in /usr/local/lib/python3.10/dist-packages (from nltk) (8.1.7)\n",
            "Requirement already satisfied: joblib in /usr/local/lib/python3.10/dist-packages (from nltk) (1.4.0)\n",
            "Requirement already satisfied: regex>=2021.8.3 in /usr/local/lib/python3.10/dist-packages (from nltk) (2023.12.25)\n",
            "Requirement already satisfied: tqdm in /usr/local/lib/python3.10/dist-packages (from nltk) (4.66.2)\n"
          ]
        }
      ],
      "source": [
        "!pip install nltk"
      ]
    },
    {
      "cell_type": "code",
      "execution_count": null,
      "metadata": {
        "id": "IhZFsRDgdMQZ"
      },
      "outputs": [],
      "source": [
        "#run it to show the model preformence at the inflection point\n",
        "# try:\n",
        "#   model.load_state_dict(torch.load('best_model.pt'))\n",
        "#   print(\"Loaded best saved model 'best_model.pt'\")\n",
        "# except FileNotFoundError:\n",
        "#   print(\"Best model 'best_model.pt' not found. Continuing with training model.\")\n"
      ]
    },
    {
      "cell_type": "code",
      "execution_count": null,
      "metadata": {
        "colab": {
          "base_uri": "https://localhost:8080/"
        },
        "id": "SMVQ-fK72htv",
        "outputId": "0054cb04-7bd0-4e89-dc0e-447d9a15b0a4"
      },
      "outputs": [
        {
          "output_type": "stream",
          "name": "stderr",
          "text": [
            "100%|██████████| 9/9 [00:02<00:00,  3.90it/s]"
          ]
        },
        {
          "output_type": "stream",
          "name": "stdout",
          "text": [
            "\n",
            "F1 = 0.7867647058823529\n",
            "EM = 0.6617647058823529\n",
            "ACC = 0.7847222222222222\n",
            "BLEU = 0.8225175664839919\n"
          ]
        },
        {
          "output_type": "stream",
          "name": "stderr",
          "text": [
            "\n"
          ]
        }
      ],
      "source": [
        "from sklearn.metrics import f1_score\n",
        "from nltk.translate.bleu_score import corpus_bleu\n",
        "from tqdm import tqdm\n",
        "\n",
        "references = []  # List to store the reference sentences\n",
        "hypotheses = []  # List to store the generated/hypothesized sentences\n",
        "acc = []\n",
        "all_start_pred = []\n",
        "all_end_pred = []\n",
        "all_start_true = []\n",
        "all_end_true = []\n",
        "\n",
        "model.eval()\n",
        "\n",
        "for batch in tqdm(test_loader):\n",
        "    with torch.no_grad():\n",
        "\n",
        "        input_ids = batch['input_ids'].to(device)\n",
        "        attention_mask = batch['attention_mask'].to(device)\n",
        "        start_true = batch['start_positions'].to(device)\n",
        "        end_true = batch['end_positions'].to(device)\n",
        "\n",
        "        # make predictions\n",
        "        outputs = model(input_ids, attention_mask=attention_mask)\n",
        "        # pull preds out\n",
        "        start_pred = torch.argmax(outputs['start_logits'], dim=1)\n",
        "        end_pred = torch.argmax(outputs['end_logits'], dim=1)\n",
        "\n",
        "        # Append predictions and true values for each example\n",
        "        all_start_pred.extend(start_pred.cpu().numpy())\n",
        "        all_end_pred.extend(end_pred.cpu().numpy())\n",
        "        all_start_true.extend(start_true.cpu().numpy())\n",
        "        all_end_true.extend(end_true.cpu().numpy())\n",
        "\n",
        "        # calculate accuracy for both and append to accuracy list\n",
        "        acc.append(((start_pred == start_true).sum()/len(start_pred)).item())\n",
        "        acc.append(((end_pred == end_true).sum()/len(end_pred)).item())\n",
        "\n",
        "        # Convert predictions to sentences\n",
        "        for i in range(len(start_pred)):\n",
        "            start_idx = start_pred[i].item()\n",
        "            end_idx = end_pred[i].item()\n",
        "            input_tokens = tokenizer.convert_ids_to_tokens(input_ids[i])\n",
        "            predicted_tokens = input_tokens[start_idx: end_idx + 1]\n",
        "            predicted_sentence = tokenizer.convert_tokens_to_string(predicted_tokens)\n",
        "            hypotheses.append(predicted_sentence)\n",
        "\n",
        "        # Convert true answers to sentences\n",
        "        for i in range(len(start_true)):\n",
        "            start_idx = start_true[i].item()\n",
        "            end_idx = end_true[i].item()\n",
        "            input_tokens = tokenizer.convert_ids_to_tokens(input_ids[i])\n",
        "            true_tokens = input_tokens[start_idx: end_idx + 1]\n",
        "            true_sentence = tokenizer.convert_tokens_to_string(true_tokens)\n",
        "            references.append([true_sentence])\n",
        "\n",
        "# Calculate F1 score\n",
        "start_f1 = f1_score(all_start_true, all_start_pred, average='micro')\n",
        "end_f1 = f1_score(all_end_true, all_end_pred, average='micro')\n",
        "overall_f1 = (start_f1 + end_f1) / 2\n",
        "\n",
        "\n",
        "# calculate average accuracy in total\n",
        "accuracy = sum(acc) / len(acc)\n",
        "\n",
        "# Calculate Exact Match (EM) score\n",
        "num_exact_matches = 0\n",
        "total_examples = len(all_start_pred)\n",
        "for i in range(total_examples):\n",
        "    start_pred = all_start_pred[i]\n",
        "    end_pred = all_end_pred[i]\n",
        "    start_true = all_start_true[i]\n",
        "    end_true = all_end_true[i]\n",
        "    if start_pred == start_true and end_pred == end_true:\n",
        "        num_exact_matches += 1\n",
        "em = num_exact_matches / total_examples\n",
        "\n",
        "# Calculate BLEU score\n",
        "bleu_score = corpus_bleu(references, hypotheses)\n",
        "\n",
        "print(f'\\nF1 = {overall_f1}')\n",
        "print(f'EM = {em}')\n",
        "print(f'ACC = {accuracy}')\n",
        "print(f'BLEU = {bleu_score}')\n"
      ]
    },
    {
      "cell_type": "code",
      "execution_count": null,
      "metadata": {
        "colab": {
          "base_uri": "https://localhost:8080/"
        },
        "id": "V-CgtblU3bwn",
        "outputId": "d91bc177-00d3-403e-9591-f5fd3cf1c535"
      },
      "outputs": [
        {
          "output_type": "execute_result",
          "data": {
            "text/plain": [
              "BertForQuestionAnswering(\n",
              "  (bert): BertModel(\n",
              "    (embeddings): BertEmbeddings(\n",
              "      (word_embeddings): Embedding(64000, 768, padding_idx=0)\n",
              "      (position_embeddings): Embedding(512, 768)\n",
              "      (token_type_embeddings): Embedding(2, 768)\n",
              "      (LayerNorm): LayerNorm((768,), eps=1e-12, elementwise_affine=True)\n",
              "      (dropout): Dropout(p=0.1, inplace=False)\n",
              "    )\n",
              "    (encoder): BertEncoder(\n",
              "      (layer): ModuleList(\n",
              "        (0-11): 12 x BertLayer(\n",
              "          (attention): BertAttention(\n",
              "            (self): BertSelfAttention(\n",
              "              (query): Linear(in_features=768, out_features=768, bias=True)\n",
              "              (key): Linear(in_features=768, out_features=768, bias=True)\n",
              "              (value): Linear(in_features=768, out_features=768, bias=True)\n",
              "              (dropout): Dropout(p=0.1, inplace=False)\n",
              "            )\n",
              "            (output): BertSelfOutput(\n",
              "              (dense): Linear(in_features=768, out_features=768, bias=True)\n",
              "              (LayerNorm): LayerNorm((768,), eps=1e-12, elementwise_affine=True)\n",
              "              (dropout): Dropout(p=0.1, inplace=False)\n",
              "            )\n",
              "          )\n",
              "          (intermediate): BertIntermediate(\n",
              "            (dense): Linear(in_features=768, out_features=3072, bias=True)\n",
              "            (intermediate_act_fn): GELUActivation()\n",
              "          )\n",
              "          (output): BertOutput(\n",
              "            (dense): Linear(in_features=3072, out_features=768, bias=True)\n",
              "            (LayerNorm): LayerNorm((768,), eps=1e-12, elementwise_affine=True)\n",
              "            (dropout): Dropout(p=0.1, inplace=False)\n",
              "          )\n",
              "        )\n",
              "      )\n",
              "    )\n",
              "  )\n",
              "  (qa_outputs): Linear(in_features=768, out_features=2, bias=True)\n",
              ")"
            ]
          },
          "metadata": {},
          "execution_count": 22
        }
      ],
      "source": [
        "model.eval()"
      ]
    },
    {
      "cell_type": "markdown",
      "metadata": {
        "id": "aCUzpXWXY6Rj"
      },
      "source": [
        "# Model saving"
      ]
    },
    {
      "cell_type": "code",
      "execution_count": null,
      "metadata": {
        "id": "VqaFaN1tYKYb"
      },
      "outputs": [],
      "source": [
        "model_save_path = \"/content/model\"\n",
        "model.save_pretrained(model_save_path)"
      ]
    },
    {
      "cell_type": "code",
      "execution_count": null,
      "metadata": {
        "colab": {
          "base_uri": "https://localhost:8080/"
        },
        "id": "pSK9N8yBBRGK",
        "outputId": "0d8df126-e03d-4af7-cfb5-5c73800804ac"
      },
      "outputs": [
        {
          "output_type": "execute_result",
          "data": {
            "text/plain": [
              "('/content/model/tokenizer_config.json',\n",
              " '/content/model/special_tokens_map.json',\n",
              " '/content/model/vocab.txt',\n",
              " '/content/model/added_tokens.json',\n",
              " '/content/model/tokenizer.json')"
            ]
          },
          "metadata": {},
          "execution_count": 24
        }
      ],
      "source": [
        "tokenizer.save_pretrained(model_save_path)"
      ]
    },
    {
      "cell_type": "markdown",
      "metadata": {
        "id": "cE-hlkfjY9iW"
      },
      "source": [
        "# pipeline"
      ]
    },
    {
      "cell_type": "code",
      "execution_count": null,
      "metadata": {
        "id": "fCzFFSn03lDK"
      },
      "outputs": [],
      "source": [
        "from transformers import pipeline\n",
        "model = AutoModelForQuestionAnswering.from_pretrained(model_save_path)\n",
        "pipe = pipeline(model = model,\n",
        "        tokenizer= tokenizer,\n",
        "        task=\"question-answering\"\n",
        "        )"
      ]
    },
    {
      "cell_type": "code",
      "execution_count": null,
      "metadata": {
        "colab": {
          "base_uri": "https://localhost:8080/"
        },
        "id": "LZbOQtPhBTgK",
        "outputId": "d81908e3-7484-4acd-c6f8-af66c042e75d"
      },
      "outputs": [
        {
          "output_type": "stream",
          "name": "stdout",
          "text": [
            "Question: ماهي استعمالات شجرة الأثاب؟\n",
            "Answer: لتزيين الحدائق والمتنزهات والأرصفة\n"
          ]
        }
      ],
      "source": [
        "context = \"الأثاب هي أشجار خضراء كبيرة جميلة، وارفة الظلال. تصلح لتزيين الحدائق والمتنزهات والأرصفة.\"\n",
        "question = \"ماهي استعمالات شجرة الأثاب؟\"\n",
        "\n",
        "# Perform inference using the pipeline\n",
        "result = pipe(context=context, question=question)\n",
        "\n",
        "# Extract the answer\n",
        "answer = result[\"answer\"]\n",
        "\n",
        "print(\"Question:\", question)\n",
        "print(\"Answer:\", answer)\n"
      ]
    },
    {
      "cell_type": "code",
      "execution_count": null,
      "metadata": {
        "colab": {
          "base_uri": "https://localhost:8080/"
        },
        "id": "rfz1l5vE6gjd",
        "outputId": "ad359d78-51bf-4643-e257-e7fcb219a895"
      },
      "outputs": [
        {
          "output_type": "stream",
          "name": "stdout",
          "text": [
            "Question: كم يصل حجم قطر أزهار البوق الذهبي؟\n",
            "Answer: 12 سنتمتر في القطر\n"
          ]
        }
      ],
      "source": [
        "question = \"كم يصل حجم قطر أزهار البوق الذهبي؟\"\n",
        "context =\"شجيرات الألمندا الصفراء من نباتات الزينة الملتفة المتسلقة، وموطنها الأصلي شمال البرازيل. ويمكن أن تشكل تغطية تامة للجدران التي تستند إليها بصورة جذابة. وأزهارها الجذابة صفراء اللون يصل حجمها إلى 12 سنتمتر في القطر.وعند توفر الظروف فإنها تعطي منظرًا وجمالًا مميزًا وتنمو في نورات غير محدودة في أشهر الصيف يتبعها ثمار ذات أشواك لها بذور مجنحة. والأماكن المشمسة جيدة التصريف مهمة لهذه النباتات، في حالة شح المياه فإنها تستمر في النمو، وهي تنمو سريعًا في الترب الرطبة عالية المستوى الرطوبي قليلة الملوحة، كما تتحمل الفترات الباردة ولكن الصقيع يؤثر على الأوراق بسرعة\"\n",
        "result = pipe(context=context, question=question)\n",
        "\n",
        "answer = result[\"answer\"]\n",
        "print(\"Question:\", question)\n",
        "print(\"Answer:\", answer)"
      ]
    },
    {
      "cell_type": "code",
      "execution_count": null,
      "metadata": {
        "colab": {
          "base_uri": "https://localhost:8080/"
        },
        "id": "MIR1uahH6rVi",
        "outputId": "a8bd29f5-6e69-4da6-d0aa-b6b97a1c4630"
      },
      "outputs": [
        {
          "output_type": "stream",
          "name": "stdout",
          "text": [
            "Question: ماهو المناخ المثالي لزراعة ذيل القط الأحمر؟\n",
            "Answer: تحتاج إلى اختيار مواقع مناسبة ظليلة وعالية الرطوبة\n"
          ]
        }
      ],
      "source": [
        "question = \"ماهو المناخ المثالي لزراعة ذيل القط الأحمر؟\"\n",
        "context =\"ويمكن زراعتها بالبذور أو بالأفرع، وتظهر بصورة جميلة في النباتات المؤنثة التي تعطي الأزهار الجميلة، ويمكن أن تتأقلم مع البيئات المشابهة لموطنها الأصلي من حيث الرطوبة العالية إلا أنها غير مناسبة لأجواء الرياض الجافة؛ لذا تحتاج إلى اختيار مواقع مناسبة ظليلة وعالية الرطوبة، ويمكن أن تُتخذ نبات زينة داخليا.\"\n",
        "result = pipe(context=context, question=question)\n",
        "\n",
        "answer = result[\"answer\"]\n",
        "print(\"Question:\", question)\n",
        "print(\"Answer:\", answer)"
      ]
    }
  ],
  "metadata": {
    "accelerator": "GPU",
    "colab": {
      "collapsed_sections": [
        "YtcApiwYL0-8",
        "aCUzpXWXY6Rj"
      ],
      "gpuType": "T4",
      "machine_shape": "hm",
      "provenance": []
    },
    "kernelspec": {
      "display_name": "Python 3",
      "name": "python3"
    },
    "language_info": {
      "name": "python"
    }
  },
  "nbformat": 4,
  "nbformat_minor": 0
}